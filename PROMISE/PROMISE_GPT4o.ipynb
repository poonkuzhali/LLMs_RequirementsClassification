{
 "cells": [
  {
   "cell_type": "code",
   "execution_count": 10,
   "id": "initial_id",
   "metadata": {
    "collapsed": true,
    "ExecuteTime": {
     "end_time": "2024-11-03T22:19:58.947256Z",
     "start_time": "2024-11-03T22:19:58.937682Z"
    }
   },
   "outputs": [],
   "source": [
    "import pandas as pd\n",
    "import json\n",
    "import random"
   ]
  },
  {
   "cell_type": "code",
   "execution_count": 11,
   "outputs": [],
   "source": [
    "import arff\n",
    "import pandas as pd\n",
    "\n",
    "with open(\"nfr.arff\", \"r\") as f:\n",
    "    arff_data = arff.load(f)\n",
    "data = arff_data['data']\n",
    "columns = [attr[0] for attr in arff_data['attributes']]\n",
    "\n",
    "df = pd.DataFrame(data, columns=columns)"
   ],
   "metadata": {
    "collapsed": false,
    "ExecuteTime": {
     "end_time": "2024-11-03T22:19:58.969911Z",
     "start_time": "2024-11-03T22:19:58.943139Z"
    }
   },
   "id": "659128369dcabeaf"
  },
  {
   "cell_type": "code",
   "execution_count": 12,
   "outputs": [
    {
     "data": {
      "text/plain": "  ProjectID                                    RequirementText class\n0         1  The system shall refresh the display every 60 ...   NFR\n1         1  The application shall match the color of the s...   NFR\n2         1   If projected  the data must be readable.  On ...   NFR\n3         1   The product shall be available during normal ...   NFR\n4         1   If projected  the data must be understandable...   NFR\n5         1  The product shall ensure that it can only be a...   NFR\n6         1  The product shall be intuitive and self-explan...   NFR\n7         1  The product shall respond fast to keep up-to-d...   NFR\n8         1  The system shall have a MDI form that allows f...    FR\n9         1  The system shall display Events in a vertical ...    FR",
      "text/html": "<div>\n<style scoped>\n    .dataframe tbody tr th:only-of-type {\n        vertical-align: middle;\n    }\n\n    .dataframe tbody tr th {\n        vertical-align: top;\n    }\n\n    .dataframe thead th {\n        text-align: right;\n    }\n</style>\n<table border=\"1\" class=\"dataframe\">\n  <thead>\n    <tr style=\"text-align: right;\">\n      <th></th>\n      <th>ProjectID</th>\n      <th>RequirementText</th>\n      <th>class</th>\n    </tr>\n  </thead>\n  <tbody>\n    <tr>\n      <th>0</th>\n      <td>1</td>\n      <td>The system shall refresh the display every 60 ...</td>\n      <td>NFR</td>\n    </tr>\n    <tr>\n      <th>1</th>\n      <td>1</td>\n      <td>The application shall match the color of the s...</td>\n      <td>NFR</td>\n    </tr>\n    <tr>\n      <th>2</th>\n      <td>1</td>\n      <td>If projected  the data must be readable.  On ...</td>\n      <td>NFR</td>\n    </tr>\n    <tr>\n      <th>3</th>\n      <td>1</td>\n      <td>The product shall be available during normal ...</td>\n      <td>NFR</td>\n    </tr>\n    <tr>\n      <th>4</th>\n      <td>1</td>\n      <td>If projected  the data must be understandable...</td>\n      <td>NFR</td>\n    </tr>\n    <tr>\n      <th>5</th>\n      <td>1</td>\n      <td>The product shall ensure that it can only be a...</td>\n      <td>NFR</td>\n    </tr>\n    <tr>\n      <th>6</th>\n      <td>1</td>\n      <td>The product shall be intuitive and self-explan...</td>\n      <td>NFR</td>\n    </tr>\n    <tr>\n      <th>7</th>\n      <td>1</td>\n      <td>The product shall respond fast to keep up-to-d...</td>\n      <td>NFR</td>\n    </tr>\n    <tr>\n      <th>8</th>\n      <td>1</td>\n      <td>The system shall have a MDI form that allows f...</td>\n      <td>FR</td>\n    </tr>\n    <tr>\n      <th>9</th>\n      <td>1</td>\n      <td>The system shall display Events in a vertical ...</td>\n      <td>FR</td>\n    </tr>\n  </tbody>\n</table>\n</div>"
     },
     "execution_count": 12,
     "metadata": {},
     "output_type": "execute_result"
    }
   ],
   "source": [
    "df['class'] = df['class'].apply(lambda x: \"FR\" if x == \"F\" else \"NFR\")\n",
    "df.head(10)"
   ],
   "metadata": {
    "collapsed": false,
    "ExecuteTime": {
     "end_time": "2024-11-03T22:19:58.976937Z",
     "start_time": "2024-11-03T22:19:58.970372Z"
    }
   },
   "id": "271934e5601d5183"
  },
  {
   "cell_type": "code",
   "execution_count": 13,
   "outputs": [],
   "source": [
    "jsonl_data = []\n",
    "for index, row in df.iterrows():\n",
    "    jsonl_data.append({\n",
    "        \"messages\": [\n",
    "            {\"role\": \"user\", \"content\": row[\"RequirementText\"]},\n",
    "            {\"role\": \"assistant\", \"content\": row[\"class\"]}\n",
    "        ]\n",
    "    })"
   ],
   "metadata": {
    "collapsed": false,
    "ExecuteTime": {
     "end_time": "2024-11-03T22:19:58.993136Z",
     "start_time": "2024-11-03T22:19:58.989714Z"
    }
   },
   "id": "b073a9ac6cd50c72"
  },
  {
   "cell_type": "code",
   "execution_count": 14,
   "outputs": [],
   "source": [
    "with open(\"data.jsonl\", \"w\") as f:\n",
    "    for entry in jsonl_data:\n",
    "        f.write(json.dumps(entry) + \"\\n\")\n",
    "file_path = \"data.jsonl\"\n",
    "with open(file_path, \"r\") as f:\n",
    "    data = [json.loads(line) for line in f]\n",
    "\n",
    "random.shuffle(data)\n",
    "\n",
    "split_index = int(0.8 * len(data))\n",
    "train_data = data[:split_index]\n",
    "test_data = data[split_index:]\n",
    "\n",
    "with open(\"train_data.jsonl\", \"w\") as train_file:\n",
    "    for entry in train_data:\n",
    "        train_file.write(json.dumps(entry) + \"\\n\")\n",
    "\n",
    "with open(\"test_data.jsonl\", \"w\") as test_file:\n",
    "    for entry in test_data:\n",
    "        test_file.write(json.dumps(entry) + \"\\n\")"
   ],
   "metadata": {
    "collapsed": false,
    "ExecuteTime": {
     "end_time": "2024-11-03T22:19:59.022042Z",
     "start_time": "2024-11-03T22:19:58.994696Z"
    }
   },
   "id": "a5b053cc74bf722d"
  },
  {
   "cell_type": "code",
   "execution_count": 1,
   "outputs": [
    {
     "name": "stdout",
     "output_type": "stream",
     "text": [
      "Uploaded file! Object id: file-2BT6pgO1lzSFn0uj1u4Cb0Dw\n"
     ]
    }
   ],
   "source": [
    "from openai import OpenAI\n",
    "\n",
    "with open(\"../openai_api_key.txt\", \"r\") as file:\n",
    "        openai_api_key = file.read().strip()\n",
    "        client = OpenAI(api_key=openai_api_key)\n",
    "file_response = client.files.create(\n",
    "    file=open(\"train_data.jsonl\", \"rb\"), purpose=\"fine-tune\"\n",
    ")\n",
    "file_obj_id = file_response.id\n",
    "print(f\"Uploaded file! Object id: {file_obj_id}\")"
   ],
   "metadata": {
    "collapsed": false,
    "ExecuteTime": {
     "end_time": "2024-11-04T01:38:22.016738Z",
     "start_time": "2024-11-04T01:38:20.740239Z"
    }
   },
   "id": "da23c09258a84a22"
  },
  {
   "cell_type": "code",
   "execution_count": 16,
   "outputs": [
    {
     "name": "stdout",
     "output_type": "stream",
     "text": [
      "Fine_tune ID: ftjob-h46WGk5Xixhxuid4FOqy4D1B\n"
     ]
    }
   ],
   "source": [
    "fine_tune = client.fine_tuning.jobs.create(training_file=file_obj_id, model=\"gpt-4o-mini-2024-07-18\")\n",
    "fine_tune_id = fine_tune.id\n",
    "print(f\"Fine_tune ID: {fine_tune_id}\")"
   ],
   "metadata": {
    "collapsed": false,
    "ExecuteTime": {
     "end_time": "2024-11-03T22:20:00.947134Z",
     "start_time": "2024-11-03T22:19:59.821474Z"
    }
   },
   "id": "62d433eca6f082fd"
  },
  {
   "cell_type": "code",
   "execution_count": 17,
   "outputs": [
    {
     "data": {
      "text/plain": "FineTuningJob(id='ftjob-h46WGk5Xixhxuid4FOqy4D1B', created_at=1730672400, error=Error(code=None, message=None, param=None), fine_tuned_model=None, finished_at=None, hyperparameters=Hyperparameters(n_epochs='auto', batch_size='auto', learning_rate_multiplier='auto'), model='gpt-4o-mini-2024-07-18', object='fine_tuning.job', organization_id='org-dOwXPJQ9qE4xluNhMVuFywBO', result_files=[], seed=564078495, status='validating_files', trained_tokens=None, training_file='file-5G0dZhyG8KDrveRh3el2jnLb', validation_file=None, estimated_finish=None, integrations=[], user_provided_suffix=None)"
     },
     "execution_count": 17,
     "metadata": {},
     "output_type": "execute_result"
    }
   ],
   "source": [
    "client.fine_tuning.jobs.retrieve(fine_tune_id)"
   ],
   "metadata": {
    "collapsed": false,
    "ExecuteTime": {
     "end_time": "2024-11-03T22:20:01.354446Z",
     "start_time": "2024-11-03T22:20:00.945800Z"
    }
   },
   "id": "2e90b1f13a440e32"
  },
  {
   "cell_type": "code",
   "execution_count": 18,
   "outputs": [],
   "source": [
    "with open(\"test_data.jsonl\", \"rb\") as f:\n",
    "    test_data = [json.loads(line) for line in f]\n",
    "    \n",
    "actual_labels = []\n",
    "predicted_labels = []\n",
    "\n",
    "for entry in test_data:\n",
    "    message = entry[\"messages\"][0][\"content\"]\n",
    "    label = entry[\"messages\"][1][\"content\"]\n",
    "\n",
    "    actual_labels.append(label)\n",
    "\n",
    "    completion = client.chat.completions.create(\n",
    "        model=f\"ft:gpt-4o-mini-2024-07-18:personal::APdkJsuS\",\n",
    "        messages=[{\"role\": \"user\", \"content\": message}]\n",
    "    )\n",
    "\n",
    "    predicted_label = completion.choices[0].message.content.strip()\n",
    "    predicted_labels.append(predicted_label)"
   ],
   "metadata": {
    "collapsed": false,
    "ExecuteTime": {
     "end_time": "2024-11-03T23:22:55.824142Z",
     "start_time": "2024-11-03T23:21:45.603833Z"
    }
   },
   "id": "e0a8f91c57d69084"
  },
  {
   "cell_type": "code",
   "execution_count": 19,
   "outputs": [
    {
     "name": "stdout",
     "output_type": "stream",
     "text": [
      "Accuracy: 0.944\n",
      "Precision: 0.9444755090809026\n",
      "Recall: 0.944\n",
      "F1 Score: 0.9436577249575552\n"
     ]
    }
   ],
   "source": [
    "from sklearn.metrics import precision_score, accuracy_score, f1_score, recall_score\n",
    "\n",
    "accuracy = accuracy_score(actual_labels, predicted_labels)\n",
    "precision = precision_score(actual_labels, predicted_labels, average=\"weighted\")\n",
    "f1 = f1_score(actual_labels, predicted_labels, average=\"weighted\")\n",
    "recall = recall_score(actual_labels, predicted_labels, average=\"weighted\")\n",
    "\n",
    "print(f\"Accuracy: {accuracy}\")\n",
    "print(f\"Precision: {precision}\")\n",
    "print(f\"Recall: {recall}\")\n",
    "print(f\"F1 Score: {f1}\")"
   ],
   "metadata": {
    "collapsed": false,
    "ExecuteTime": {
     "end_time": "2024-11-03T23:32:27.575367Z",
     "start_time": "2024-11-03T23:32:26.882281Z"
    }
   },
   "id": "6943802c7175332b"
  }
 ],
 "metadata": {
  "kernelspec": {
   "display_name": "Python 3",
   "language": "python",
   "name": "python3"
  },
  "language_info": {
   "codemirror_mode": {
    "name": "ipython",
    "version": 2
   },
   "file_extension": ".py",
   "mimetype": "text/x-python",
   "name": "python",
   "nbconvert_exporter": "python",
   "pygments_lexer": "ipython2",
   "version": "2.7.6"
  }
 },
 "nbformat": 4,
 "nbformat_minor": 5
}
